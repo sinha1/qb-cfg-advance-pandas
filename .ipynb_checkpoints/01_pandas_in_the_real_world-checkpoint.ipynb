{
 "cells": [
  {
   "cell_type": "markdown",
   "metadata": {},
   "source": [
    "## Some of the key lessons from last session\n",
    "1. Pandas - how it helps\n",
    "2. How to read CSVs and Excels in Pandas\n",
    "3. How to perform basic operations\n",
    "\n",
    "<img src=\"https://media.giphy.com/media/txsJLp7Z8zAic/giphy.gif\">"
   ]
  },
  {
   "cell_type": "markdown",
   "metadata": {},
   "source": [
    "## In this lesson\n",
    "1. How to handle copmplex excels in Pandas.\n",
    "2. Sharpening your pandas toolkit\n",
    "5. How to say it with charts\n",
    "\n",
    "## In short more pandas ...\n",
    "<img src = \"https://media.giphy.com/media/QoCoLo2opwUW4/giphy.gif\">\n"
   ]
  },
  {
   "cell_type": "markdown",
   "metadata": {},
   "source": [
    "# Reading Multiple Excel Sheets\n",
    "Often excels have more than one tab. <br>\n",
    "Pandas allows us multiple ways to read an excel <br>\n",
    "Lets execute following commands as see the difference"
   ]
  },
  {
   "cell_type": "code",
   "execution_count": 1,
   "metadata": {},
   "outputs": [],
   "source": [
    "import pandas as pd"
   ]
  },
  {
   "cell_type": "code",
   "execution_count": null,
   "metadata": {},
   "outputs": [],
   "source": [
    "first_sheet_only = pd.read_excel('movies.xls')\n",
    "selected_sheet_only = pd.read_excel('movies.xls', sheet_name = '2000s')\n",
    "selected_sheet_only_w_index = pd.read_excel('movies.xls', sheet_name = 1)\n",
    "all_sheets = pd.read_excel('movies.xls', sheet_name = None)"
   ]
  },
  {
   "cell_type": "code",
   "execution_count": null,
   "metadata": {},
   "outputs": [],
   "source": [
    "# In this cell check result of variable first_sheet_only"
   ]
  },
  {
   "cell_type": "code",
   "execution_count": null,
   "metadata": {},
   "outputs": [],
   "source": [
    "# In this cell check result of variable selected_sheet_only"
   ]
  },
  {
   "cell_type": "code",
   "execution_count": null,
   "metadata": {},
   "outputs": [],
   "source": [
    "# In this cell check result of variable selected_sheet_only_w_index"
   ]
  },
  {
   "cell_type": "code",
   "execution_count": null,
   "metadata": {},
   "outputs": [],
   "source": [
    "# In this cell check result of variable all_sheets"
   ]
  },
  {
   "cell_type": "markdown",
   "metadata": {},
   "source": [
    "# [Q1] Find out how many sheets are in the excel"
   ]
  },
  {
   "cell_type": "code",
   "execution_count": null,
   "metadata": {},
   "outputs": [],
   "source": [
    "# Test shape of all 3 variables above\n",
    "# variable all_sheets does not have a shape because its a dict."
   ]
  },
  {
   "cell_type": "markdown",
   "metadata": {},
   "source": [
    "## [Q2] How many rows in excel tab 2010s. [Hint: Try accessing one of the key-value pairs in Dictionary]"
   ]
  },
  {
   "cell_type": "code",
   "execution_count": null,
   "metadata": {},
   "outputs": [],
   "source": [
    "# Please complete the rest of this cell"
   ]
  },
  {
   "cell_type": "markdown",
   "metadata": {},
   "source": [
    "# Adding columns to existing dataframes\n",
    "Many time we have to add new columns to the data deriving it from existing columns.\n",
    "\n",
    "## [Q3] Why do you think this is needed ?\n",
    "\n",
    "<img src=\"https://media.giphy.com/media/dILrAu24mU729pxPYN/giphy.gif\">"
   ]
  },
  {
   "cell_type": "markdown",
   "metadata": {},
   "source": [
    "# Add budget of movies by 10 %"
   ]
  },
  {
   "cell_type": "markdown",
   "metadata": {},
   "source": [
    "## [Q3] Lets read first sheet of excel in variable movies_df"
   ]
  },
  {
   "cell_type": "code",
   "execution_count": null,
   "metadata": {},
   "outputs": [],
   "source": [
    "# Please complete the rest of this cell\n",
    "movies_df = "
   ]
  },
  {
   "cell_type": "code",
   "execution_count": null,
   "metadata": {},
   "outputs": [],
   "source": [
    "# Lets increase movie budget by 10%\n",
    "def inc_by_10_pc(num):\n",
    "    return num * 1.10\n",
    "\n",
    "movies_df['incrsd_budget'] = movies_df['Budget'].apply(inc_by_10_pc)\n",
    "movies_df[['Budget', 'incrsd_budget']]"
   ]
  },
  {
   "cell_type": "markdown",
   "metadata": {},
   "source": [
    "## [Q4] Create a new cloumn with 1 point decrease in IMDB rating of movies"
   ]
  },
  {
   "cell_type": "code",
   "execution_count": null,
   "metadata": {},
   "outputs": [],
   "source": [
    "# Please complete the rest of this cell"
   ]
  },
  {
   "cell_type": "markdown",
   "metadata": {},
   "source": [
    "# Groupby\n",
    "\n",
    "- Group by is used to split a pandas dataframe into groups.\n",
    "- Similar to groupby in other langauage e.g SQL\n",
    "\n",
    "\n",
    "<img src=\"join_example.png\">\n"
   ]
  },
  {
   "cell_type": "code",
   "execution_count": null,
   "metadata": {},
   "outputs": [],
   "source": [
    "movies_mean = movies_df.groupby('Year')['Gross Earnings'].mean()\n",
    "movies_mean"
   ]
  },
  {
   "cell_type": "markdown",
   "metadata": {},
   "source": [
    "## Count number of movies by each country"
   ]
  },
  {
   "cell_type": "code",
   "execution_count": null,
   "metadata": {},
   "outputs": [],
   "source": [
    "# Please complete the rest of this cell\n",
    "movies_by_country_count ="
   ]
  },
  {
   "cell_type": "markdown",
   "metadata": {},
   "source": [
    "# Joining 2 dataframes\n",
    "\n",
    "- Most of the time single dataframe does not posses enough information\n",
    "- Information can be enriched by joining two dataframes"
   ]
  },
  {
   "cell_type": "code",
   "execution_count": null,
   "metadata": {},
   "outputs": [],
   "source": [
    "#Lets create a small dataframe with flags of countries\n",
    "emojis = dict(\n",
    "    USA =  '🇺🇸',\n",
    "    UK = '🇬🇧',\n",
    "    France = '🇫🇷',\n",
    "    Canada = '🇨🇦',        \n",
    "    Australia = '🇦🇺',       \n",
    "    Germany = '🇩🇪',  \n",
    "    Italy = '🇮🇹',  \n",
    "    Japan = '🇯🇵',     \n",
    "    Spain = '🇪🇸'    \n",
    ")\n",
    "\n",
    "flag_df = pd.Series(emojis, name='flag').reset_index()\n",
    "flag_df"
   ]
  },
  {
   "cell_type": "code",
   "execution_count": null,
   "metadata": {},
   "outputs": [],
   "source": [
    "movies_by_country_df = movies_by_country_count.to_frame().rename(columns={\"Title\": \"Title counts\"})\n",
    "movies_by_country_df"
   ]
  },
  {
   "cell_type": "code",
   "execution_count": null,
   "metadata": {},
   "outputs": [],
   "source": [
    "#Now lets join it with our movies df and add flags to countries\n",
    "movies_by_country_df.merge(flag_df, left_on='Country', right_on='index')"
   ]
  },
  {
   "cell_type": "markdown",
   "metadata": {},
   "source": [
    "## Where did remaining rows go ??\n",
    "\n",
    "## Extra Credits\n",
    "\n",
    "- What are different types of join available?\n",
    "- How would you avoid dropping rows which do not have a flag lookup? \n",
    "- Hint: see how above command behaves with another join strategy."
   ]
  },
  {
   "cell_type": "markdown",
   "metadata": {},
   "source": [
    "## In this chapter we learnt today:\n",
    "1. How to read complex excels\n",
    "2. How to add a new column to a database\n",
    "3. How to group dataframe by a column and aggregate the results\n",
    "4. How to Join 2 datasets"
   ]
  },
  {
   "cell_type": "code",
   "execution_count": null,
   "metadata": {},
   "outputs": [],
   "source": []
  }
 ],
 "metadata": {
  "kernelspec": {
   "display_name": "Python 3",
   "language": "python",
   "name": "python3"
  },
  "language_info": {
   "codemirror_mode": {
    "name": "ipython",
    "version": 3
   },
   "file_extension": ".py",
   "mimetype": "text/x-python",
   "name": "python",
   "nbconvert_exporter": "python",
   "pygments_lexer": "ipython3",
   "version": "3.7.6"
  }
 },
 "nbformat": 4,
 "nbformat_minor": 2
}
